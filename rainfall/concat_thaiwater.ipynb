{
 "cells": [
  {
   "cell_type": "code",
   "execution_count": 2,
   "outputs": [],
   "source": [
    "\n",
    "from plot_lib.plot_rainfall import integrate_datetime, RainGauge\n",
    "import pandas as pd\n",
    "from datetime import datetime\n",
    "import os\n"
   ],
   "metadata": {
    "collapsed": false
   }
  },
  {
   "cell_type": "code",
   "execution_count": 12,
   "outputs": [
    {
     "name": "stdout",
     "output_type": "stream",
     "text": [
      "1000\n",
      "1500\n",
      "2000\n",
      "1100\n",
      "1621\n",
      "1500\n",
      "900\n",
      "1742\n",
      "1300\n",
      "2300\n",
      "2300\n",
      "1600\n",
      "1900\n",
      "2000\n",
      "1667\n",
      "2348\n",
      "2000\n",
      "1300\n",
      "1200\n",
      "1700\n",
      "1804\n",
      "2004\n",
      "2184\n",
      "2066\n",
      "2300\n",
      "1600\n",
      "1493\n",
      "1616\n",
      "1715\n",
      "800\n",
      "1600\n",
      "1861\n",
      "1544\n",
      "1649\n",
      "1306\n",
      "2200\n",
      "1700\n",
      "2100\n",
      "1900\n",
      "1319\n",
      "1857\n",
      "1500\n",
      "1300\n",
      "1800\n",
      "1500\n",
      "1412\n",
      "1032\n",
      "1300\n",
      "2000\n",
      "1900\n",
      "2000\n",
      "1561\n",
      "545\n",
      "2100\n",
      "2400\n",
      "1900\n",
      "2000\n",
      "1814\n",
      "1700\n",
      "2100\n",
      "2200\n",
      "1100\n",
      "1000\n",
      "2000\n",
      "2100\n",
      "2300\n",
      "2200\n",
      "1900\n",
      "2300\n",
      "1745\n",
      "900\n",
      "1000\n",
      "2109\n",
      "1154\n",
      "2000\n",
      "1000\n",
      "1800\n",
      "700\n",
      "1700\n",
      "1600\n"
     ]
    }
   ],
   "source": [
    "dir_file = '../assets/thaiwater'\n",
    "\n",
    "concat = []\n",
    "\n",
    "for fn in os.listdir(dir_file):\n",
    "    path_csv = os.path.join(dir_file, fn)\n",
    "    name_csv = fn.split('.csv')[0]\n",
    "    date = datetime.strptime(name_csv, '%Y%m%d')\n",
    "    df = pd.read_csv(path_csv)\n",
    "    print(len(df))\n",
    "    df['date'] = date\n",
    "    concat.append(df)\n"
   ],
   "metadata": {
    "collapsed": false
   }
  },
  {
   "cell_type": "code",
   "execution_count": 4,
   "outputs": [],
   "source": [
    "df = pd.concat(concat, ignore_index=True)\n",
    "df = df.rename(columns={'ชื่อสถานี': 'station', 'ที่ตั้ง': 'address', 'เวลา': 'time', 'ฝนล่าสุด (มม.)': 'rainfall'})"
   ],
   "metadata": {
    "collapsed": false
   }
  },
  {
   "cell_type": "code",
   "execution_count": 5,
   "outputs": [
    {
     "name": "stdout",
     "output_type": "stream",
     "text": [
      "<class 'pandas.core.frame.DataFrame'>\n",
      "RangeIndex: 134268 entries, 0 to 134267\n",
      "Data columns (total 7 columns):\n",
      " #   Column    Non-Null Count   Dtype                       \n",
      "---  ------    --------------   -----                       \n",
      " 0   station   134268 non-null  object                      \n",
      " 1   address   134268 non-null  object                      \n",
      " 2   time      134268 non-null  object                      \n",
      " 3   rainfall  134268 non-null  float64                     \n",
      " 4   date      134268 non-null  datetime64[ns, Asia/Bangkok]\n",
      " 5   lat       41168 non-null   float64                     \n",
      " 6   long      41168 non-null   float64                     \n",
      "dtypes: datetime64[ns, Asia/Bangkok](1), float64(3), object(3)\n",
      "memory usage: 7.2+ MB\n"
     ]
    }
   ],
   "source": [
    "df['date'] = df['date'].dt.tz_localize('UTC').dt.tz_convert('Asia/Bangkok')\n",
    "df.info()"
   ],
   "metadata": {
    "collapsed": false
   }
  },
  {
   "cell_type": "code",
   "execution_count": 6,
   "outputs": [],
   "source": [
    "df['english_day'] = df.date.dt.strftime('%a')\n",
    "df = df.sort_values(by='date')"
   ],
   "metadata": {
    "collapsed": false
   }
  },
  {
   "cell_type": "code",
   "execution_count": 7,
   "outputs": [
    {
     "data": {
      "text/plain": "                             station  \\\n124486                   บ้านบางกุ่ม   \n124695                   บ้านทุ่งไพล   \n124696  ปตร.กระมัง (ปากคลองข้าวเม่า)   \n124697              บ้านร่มโพธิ์เงิน   \n124698                    ปราจีนบุรี   \n\n                                            address      time  rainfall  \\\n124486                        ต.กะปง อ.กะปง จ.พังงา  00:00 น.       2.5   \n124695                 ต.เขาแดง อ.สะบ้าย้อย จ.สงขลา  00:00 น.       3.0   \n124696  ต.หัวรอ อ.พระนครศรีอยุธยา จ.พระนครศรีอยุธยา  00:00 น.       3.0   \n124697                  ต.ปอ อ.เวียงแก่น จ.เชียงราย  20:00 น.       1.0   \n124698   ต.หน้าเมือง อ.เมืองปราจีนบุรี จ.ปราจีนบุรี  22:00 น.       3.1   \n\n                            date        lat        long english_day  \n124486 2022-05-27 07:00:00+07:00   8.665887   98.452998         Fri  \n124695 2022-05-27 07:00:00+07:00   6.547667  100.836956         Fri  \n124696 2022-05-27 07:00:00+07:00  14.355067  100.583584         Fri  \n124697 2022-05-27 07:00:00+07:00  19.872663  100.488998         Fri  \n124698 2022-05-27 07:00:00+07:00  14.058418  101.369305         Fri  ",
      "text/html": "<div>\n<style scoped>\n    .dataframe tbody tr th:only-of-type {\n        vertical-align: middle;\n    }\n\n    .dataframe tbody tr th {\n        vertical-align: top;\n    }\n\n    .dataframe thead th {\n        text-align: right;\n    }\n</style>\n<table border=\"1\" class=\"dataframe\">\n  <thead>\n    <tr style=\"text-align: right;\">\n      <th></th>\n      <th>station</th>\n      <th>address</th>\n      <th>time</th>\n      <th>rainfall</th>\n      <th>date</th>\n      <th>lat</th>\n      <th>long</th>\n      <th>english_day</th>\n    </tr>\n  </thead>\n  <tbody>\n    <tr>\n      <th>124486</th>\n      <td>บ้านบางกุ่ม</td>\n      <td>ต.กะปง อ.กะปง จ.พังงา</td>\n      <td>00:00 น.</td>\n      <td>2.5</td>\n      <td>2022-05-27 07:00:00+07:00</td>\n      <td>8.665887</td>\n      <td>98.452998</td>\n      <td>Fri</td>\n    </tr>\n    <tr>\n      <th>124695</th>\n      <td>บ้านทุ่งไพล</td>\n      <td>ต.เขาแดง อ.สะบ้าย้อย จ.สงขลา</td>\n      <td>00:00 น.</td>\n      <td>3.0</td>\n      <td>2022-05-27 07:00:00+07:00</td>\n      <td>6.547667</td>\n      <td>100.836956</td>\n      <td>Fri</td>\n    </tr>\n    <tr>\n      <th>124696</th>\n      <td>ปตร.กระมัง (ปากคลองข้าวเม่า)</td>\n      <td>ต.หัวรอ อ.พระนครศรีอยุธยา จ.พระนครศรีอยุธยา</td>\n      <td>00:00 น.</td>\n      <td>3.0</td>\n      <td>2022-05-27 07:00:00+07:00</td>\n      <td>14.355067</td>\n      <td>100.583584</td>\n      <td>Fri</td>\n    </tr>\n    <tr>\n      <th>124697</th>\n      <td>บ้านร่มโพธิ์เงิน</td>\n      <td>ต.ปอ อ.เวียงแก่น จ.เชียงราย</td>\n      <td>20:00 น.</td>\n      <td>1.0</td>\n      <td>2022-05-27 07:00:00+07:00</td>\n      <td>19.872663</td>\n      <td>100.488998</td>\n      <td>Fri</td>\n    </tr>\n    <tr>\n      <th>124698</th>\n      <td>ปราจีนบุรี</td>\n      <td>ต.หน้าเมือง อ.เมืองปราจีนบุรี จ.ปราจีนบุรี</td>\n      <td>22:00 น.</td>\n      <td>3.1</td>\n      <td>2022-05-27 07:00:00+07:00</td>\n      <td>14.058418</td>\n      <td>101.369305</td>\n      <td>Fri</td>\n    </tr>\n  </tbody>\n</table>\n</div>"
     },
     "execution_count": 7,
     "metadata": {},
     "output_type": "execute_result"
    }
   ],
   "source": [
    "df.head()"
   ],
   "metadata": {
    "collapsed": false
   }
  },
  {
   "cell_type": "code",
   "execution_count": 8,
   "outputs": [],
   "source": [
    "df['month'] = df.date.dt.month\n",
    "df['day'] = df.date.dt.day\n",
    "df['year'] = df.date.dt.year"
   ],
   "metadata": {
    "collapsed": false
   }
  },
  {
   "cell_type": "code",
   "execution_count": 9,
   "outputs": [
    {
     "data": {
      "text/plain": "                             station  \\\n124486                   บ้านบางกุ่ม   \n124695                   บ้านทุ่งไพล   \n124696  ปตร.กระมัง (ปากคลองข้าวเม่า)   \n124697              บ้านร่มโพธิ์เงิน   \n124698                    ปราจีนบุรี   \n\n                                            address      time  rainfall  \\\n124486                        ต.กะปง อ.กะปง จ.พังงา  00:00 น.       2.5   \n124695                 ต.เขาแดง อ.สะบ้าย้อย จ.สงขลา  00:00 น.       3.0   \n124696  ต.หัวรอ อ.พระนครศรีอยุธยา จ.พระนครศรีอยุธยา  00:00 น.       3.0   \n124697                  ต.ปอ อ.เวียงแก่น จ.เชียงราย  20:00 น.       1.0   \n124698   ต.หน้าเมือง อ.เมืองปราจีนบุรี จ.ปราจีนบุรี  22:00 น.       3.1   \n\n                            date        lat        long english_day  month  \\\n124486 2022-05-27 07:00:00+07:00   8.665887   98.452998         Fri      5   \n124695 2022-05-27 07:00:00+07:00   6.547667  100.836956         Fri      5   \n124696 2022-05-27 07:00:00+07:00  14.355067  100.583584         Fri      5   \n124697 2022-05-27 07:00:00+07:00  19.872663  100.488998         Fri      5   \n124698 2022-05-27 07:00:00+07:00  14.058418  101.369305         Fri      5   \n\n        day  year  \n124486   27  2022  \n124695   27  2022  \n124696   27  2022  \n124697   27  2022  \n124698   27  2022  ",
      "text/html": "<div>\n<style scoped>\n    .dataframe tbody tr th:only-of-type {\n        vertical-align: middle;\n    }\n\n    .dataframe tbody tr th {\n        vertical-align: top;\n    }\n\n    .dataframe thead th {\n        text-align: right;\n    }\n</style>\n<table border=\"1\" class=\"dataframe\">\n  <thead>\n    <tr style=\"text-align: right;\">\n      <th></th>\n      <th>station</th>\n      <th>address</th>\n      <th>time</th>\n      <th>rainfall</th>\n      <th>date</th>\n      <th>lat</th>\n      <th>long</th>\n      <th>english_day</th>\n      <th>month</th>\n      <th>day</th>\n      <th>year</th>\n    </tr>\n  </thead>\n  <tbody>\n    <tr>\n      <th>124486</th>\n      <td>บ้านบางกุ่ม</td>\n      <td>ต.กะปง อ.กะปง จ.พังงา</td>\n      <td>00:00 น.</td>\n      <td>2.5</td>\n      <td>2022-05-27 07:00:00+07:00</td>\n      <td>8.665887</td>\n      <td>98.452998</td>\n      <td>Fri</td>\n      <td>5</td>\n      <td>27</td>\n      <td>2022</td>\n    </tr>\n    <tr>\n      <th>124695</th>\n      <td>บ้านทุ่งไพล</td>\n      <td>ต.เขาแดง อ.สะบ้าย้อย จ.สงขลา</td>\n      <td>00:00 น.</td>\n      <td>3.0</td>\n      <td>2022-05-27 07:00:00+07:00</td>\n      <td>6.547667</td>\n      <td>100.836956</td>\n      <td>Fri</td>\n      <td>5</td>\n      <td>27</td>\n      <td>2022</td>\n    </tr>\n    <tr>\n      <th>124696</th>\n      <td>ปตร.กระมัง (ปากคลองข้าวเม่า)</td>\n      <td>ต.หัวรอ อ.พระนครศรีอยุธยา จ.พระนครศรีอยุธยา</td>\n      <td>00:00 น.</td>\n      <td>3.0</td>\n      <td>2022-05-27 07:00:00+07:00</td>\n      <td>14.355067</td>\n      <td>100.583584</td>\n      <td>Fri</td>\n      <td>5</td>\n      <td>27</td>\n      <td>2022</td>\n    </tr>\n    <tr>\n      <th>124697</th>\n      <td>บ้านร่มโพธิ์เงิน</td>\n      <td>ต.ปอ อ.เวียงแก่น จ.เชียงราย</td>\n      <td>20:00 น.</td>\n      <td>1.0</td>\n      <td>2022-05-27 07:00:00+07:00</td>\n      <td>19.872663</td>\n      <td>100.488998</td>\n      <td>Fri</td>\n      <td>5</td>\n      <td>27</td>\n      <td>2022</td>\n    </tr>\n    <tr>\n      <th>124698</th>\n      <td>ปราจีนบุรี</td>\n      <td>ต.หน้าเมือง อ.เมืองปราจีนบุรี จ.ปราจีนบุรี</td>\n      <td>22:00 น.</td>\n      <td>3.1</td>\n      <td>2022-05-27 07:00:00+07:00</td>\n      <td>14.058418</td>\n      <td>101.369305</td>\n      <td>Fri</td>\n      <td>5</td>\n      <td>27</td>\n      <td>2022</td>\n    </tr>\n  </tbody>\n</table>\n</div>"
     },
     "execution_count": 9,
     "metadata": {},
     "output_type": "execute_result"
    }
   ],
   "source": [
    "df.head()"
   ],
   "metadata": {
    "collapsed": false
   }
  },
  {
   "cell_type": "code",
   "execution_count": 10,
   "outputs": [
    {
     "data": {
      "text/plain": "                             station  \\\n124486                   บ้านบางกุ่ม   \n124695                   บ้านทุ่งไพล   \n124696  ปตร.กระมัง (ปากคลองข้าวเม่า)   \n124697              บ้านร่มโพธิ์เงิน   \n124698                    ปราจีนบุรี   \n\n                                            address      time  rainfall  \\\n124486                        ต.กะปง อ.กะปง จ.พังงา  00:00 น.       2.5   \n124695                 ต.เขาแดง อ.สะบ้าย้อย จ.สงขลา  00:00 น.       3.0   \n124696  ต.หัวรอ อ.พระนครศรีอยุธยา จ.พระนครศรีอยุธยา  00:00 น.       3.0   \n124697                  ต.ปอ อ.เวียงแก่น จ.เชียงราย  20:00 น.       1.0   \n124698   ต.หน้าเมือง อ.เมืองปราจีนบุรี จ.ปราจีนบุรี  22:00 น.       3.1   \n\n              date        lat        long english_day  month  day  year  \n124486  2022-05-27   8.665887   98.452998         Fri      5   27  2022  \n124695  2022-05-27   6.547667  100.836956         Fri      5   27  2022  \n124696  2022-05-27  14.355067  100.583584         Fri      5   27  2022  \n124697  2022-05-27  19.872663  100.488998         Fri      5   27  2022  \n124698  2022-05-27  14.058418  101.369305         Fri      5   27  2022  ",
      "text/html": "<div>\n<style scoped>\n    .dataframe tbody tr th:only-of-type {\n        vertical-align: middle;\n    }\n\n    .dataframe tbody tr th {\n        vertical-align: top;\n    }\n\n    .dataframe thead th {\n        text-align: right;\n    }\n</style>\n<table border=\"1\" class=\"dataframe\">\n  <thead>\n    <tr style=\"text-align: right;\">\n      <th></th>\n      <th>station</th>\n      <th>address</th>\n      <th>time</th>\n      <th>rainfall</th>\n      <th>date</th>\n      <th>lat</th>\n      <th>long</th>\n      <th>english_day</th>\n      <th>month</th>\n      <th>day</th>\n      <th>year</th>\n    </tr>\n  </thead>\n  <tbody>\n    <tr>\n      <th>124486</th>\n      <td>บ้านบางกุ่ม</td>\n      <td>ต.กะปง อ.กะปง จ.พังงา</td>\n      <td>00:00 น.</td>\n      <td>2.5</td>\n      <td>2022-05-27</td>\n      <td>8.665887</td>\n      <td>98.452998</td>\n      <td>Fri</td>\n      <td>5</td>\n      <td>27</td>\n      <td>2022</td>\n    </tr>\n    <tr>\n      <th>124695</th>\n      <td>บ้านทุ่งไพล</td>\n      <td>ต.เขาแดง อ.สะบ้าย้อย จ.สงขลา</td>\n      <td>00:00 น.</td>\n      <td>3.0</td>\n      <td>2022-05-27</td>\n      <td>6.547667</td>\n      <td>100.836956</td>\n      <td>Fri</td>\n      <td>5</td>\n      <td>27</td>\n      <td>2022</td>\n    </tr>\n    <tr>\n      <th>124696</th>\n      <td>ปตร.กระมัง (ปากคลองข้าวเม่า)</td>\n      <td>ต.หัวรอ อ.พระนครศรีอยุธยา จ.พระนครศรีอยุธยา</td>\n      <td>00:00 น.</td>\n      <td>3.0</td>\n      <td>2022-05-27</td>\n      <td>14.355067</td>\n      <td>100.583584</td>\n      <td>Fri</td>\n      <td>5</td>\n      <td>27</td>\n      <td>2022</td>\n    </tr>\n    <tr>\n      <th>124697</th>\n      <td>บ้านร่มโพธิ์เงิน</td>\n      <td>ต.ปอ อ.เวียงแก่น จ.เชียงราย</td>\n      <td>20:00 น.</td>\n      <td>1.0</td>\n      <td>2022-05-27</td>\n      <td>19.872663</td>\n      <td>100.488998</td>\n      <td>Fri</td>\n      <td>5</td>\n      <td>27</td>\n      <td>2022</td>\n    </tr>\n    <tr>\n      <th>124698</th>\n      <td>ปราจีนบุรี</td>\n      <td>ต.หน้าเมือง อ.เมืองปราจีนบุรี จ.ปราจีนบุรี</td>\n      <td>22:00 น.</td>\n      <td>3.1</td>\n      <td>2022-05-27</td>\n      <td>14.058418</td>\n      <td>101.369305</td>\n      <td>Fri</td>\n      <td>5</td>\n      <td>27</td>\n      <td>2022</td>\n    </tr>\n  </tbody>\n</table>\n</div>"
     },
     "execution_count": 10,
     "metadata": {},
     "output_type": "execute_result"
    }
   ],
   "source": [
    "df['date'] = df['date'].dt.strftime('%Y-%m-%d')\n",
    "df.head()"
   ],
   "metadata": {
    "collapsed": false
   }
  },
  {
   "cell_type": "code",
   "execution_count": 11,
   "outputs": [],
   "source": [
    "df.to_excel('../assets/results/thaiwater.xlsx', engine='xlsxwriter')"
   ],
   "metadata": {
    "collapsed": false
   }
  },
  {
   "cell_type": "code",
   "execution_count": null,
   "outputs": [],
   "source": [],
   "metadata": {
    "collapsed": false
   }
  }
 ],
 "metadata": {
  "kernelspec": {
   "display_name": "Python 3",
   "language": "python",
   "name": "python3"
  },
  "language_info": {
   "codemirror_mode": {
    "name": "ipython",
    "version": 2
   },
   "file_extension": ".py",
   "mimetype": "text/x-python",
   "name": "python",
   "nbconvert_exporter": "python",
   "pygments_lexer": "ipython2",
   "version": "2.7.6"
  }
 },
 "nbformat": 4,
 "nbformat_minor": 0
}
