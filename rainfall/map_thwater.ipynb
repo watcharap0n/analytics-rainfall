{
 "cells": [
  {
   "cell_type": "code",
   "execution_count": 2,
   "metadata": {
    "collapsed": true
   },
   "outputs": [],
   "source": [
    "\n",
    "import time\n",
    "import math\n",
    "import os\n",
    "import pandas as pd\n",
    "import numpy as np\n",
    "import matplotlib.pyplot as plt\n",
    "import seaborn as sns\n",
    "from datetime import datetime\n",
    "from pydantic import BaseModel, Field\n",
    "from typing import Optional, Any, Union\n",
    "from plot_lib.plot_rainfall import integrate_datetime, RainGauge"
   ]
  },
  {
   "cell_type": "code",
   "execution_count": 20,
   "outputs": [
    {
     "data": {
      "text/plain": "<Figure size 640x480 with 0 Axes>"
     },
     "execution_count": 20,
     "metadata": {},
     "output_type": "execute_result"
    },
    {
     "data": {
      "text/plain": "<Figure size 640x480 with 0 Axes>"
     },
     "metadata": {},
     "output_type": "display_data"
    }
   ],
   "source": [
    "sns.set_style('darkgrid')\n",
    "plt.figure()\n"
   ],
   "metadata": {
    "collapsed": false
   }
  },
  {
   "cell_type": "code",
   "execution_count": 21,
   "outputs": [],
   "source": [
    "app = RainGauge()"
   ],
   "metadata": {
    "collapsed": false
   }
  },
  {
   "cell_type": "code",
   "execution_count": 22,
   "outputs": [
    {
     "data": {
      "text/plain": "   Unnamed: 0.1  ID  WMO_CODE         NAME_EN    Region   Latitude  Longitude  \\\n0             0   1       300    Mae Hong Son  Northern  19.298972  97.975778   \n1             1   2       325     Mae Sariang  Northern  18.166667  97.933333   \n2             2   3       303      Chiang Rai  Northern  19.961389  99.881389   \n3             3   4       304  Chiang Rai (1)  Northern  19.870833  99.782778   \n4             4   5       310          Phayao  Northern  19.133333  99.900000   \n\n  00Z                  01Z                 02Z  ...                 18Z  \\\n0   0                    0                   0  ...  0.5698800086975098   \n1   0                    0                   0  ...  0.4624394178390503   \n2   0   0.5173004269599915  0.2576569616794586  ...                   0   \n3   0  0.31870177388191223  0.2236250340938568  ...                   0   \n4   0                    0                   0  ...                   0   \n\n                   19Z                  20Z                  21Z  \\\n0  0.17173077166080475  0.22759518027305603  0.15417519211769104   \n1   0.1064237728714943  0.08311599493026733  0.07849250733852386   \n2                    0                    0                    0   \n3                    0                    0                    0   \n4                    0                    0                    0   \n\n                   22Z                  23Z                 sum  year month  \\\n0  0.14867419004440308   0.1414373219013214  1.4134926795959473  2022     7   \n1   0.0923473909497261  0.06365538388490677  0.8864744901657104  2022     7   \n2                    0                    0  3.2337076663970947  2022     7   \n3                    0                    0   2.828620433807373  2022     7   \n4                    0                    0  2.6045122146606445  2022     7   \n\n  day  \n0   2  \n1   2  \n2   2  \n3   2  \n4   2  \n\n[5 rows x 35 columns]",
      "text/html": "<div>\n<style scoped>\n    .dataframe tbody tr th:only-of-type {\n        vertical-align: middle;\n    }\n\n    .dataframe tbody tr th {\n        vertical-align: top;\n    }\n\n    .dataframe thead th {\n        text-align: right;\n    }\n</style>\n<table border=\"1\" class=\"dataframe\">\n  <thead>\n    <tr style=\"text-align: right;\">\n      <th></th>\n      <th>Unnamed: 0.1</th>\n      <th>ID</th>\n      <th>WMO_CODE</th>\n      <th>NAME_EN</th>\n      <th>Region</th>\n      <th>Latitude</th>\n      <th>Longitude</th>\n      <th>00Z</th>\n      <th>01Z</th>\n      <th>02Z</th>\n      <th>...</th>\n      <th>18Z</th>\n      <th>19Z</th>\n      <th>20Z</th>\n      <th>21Z</th>\n      <th>22Z</th>\n      <th>23Z</th>\n      <th>sum</th>\n      <th>year</th>\n      <th>month</th>\n      <th>day</th>\n    </tr>\n  </thead>\n  <tbody>\n    <tr>\n      <th>0</th>\n      <td>0</td>\n      <td>1</td>\n      <td>300</td>\n      <td>Mae Hong Son</td>\n      <td>Northern</td>\n      <td>19.298972</td>\n      <td>97.975778</td>\n      <td>0</td>\n      <td>0</td>\n      <td>0</td>\n      <td>...</td>\n      <td>0.5698800086975098</td>\n      <td>0.17173077166080475</td>\n      <td>0.22759518027305603</td>\n      <td>0.15417519211769104</td>\n      <td>0.14867419004440308</td>\n      <td>0.1414373219013214</td>\n      <td>1.4134926795959473</td>\n      <td>2022</td>\n      <td>7</td>\n      <td>2</td>\n    </tr>\n    <tr>\n      <th>1</th>\n      <td>1</td>\n      <td>2</td>\n      <td>325</td>\n      <td>Mae Sariang</td>\n      <td>Northern</td>\n      <td>18.166667</td>\n      <td>97.933333</td>\n      <td>0</td>\n      <td>0</td>\n      <td>0</td>\n      <td>...</td>\n      <td>0.4624394178390503</td>\n      <td>0.1064237728714943</td>\n      <td>0.08311599493026733</td>\n      <td>0.07849250733852386</td>\n      <td>0.0923473909497261</td>\n      <td>0.06365538388490677</td>\n      <td>0.8864744901657104</td>\n      <td>2022</td>\n      <td>7</td>\n      <td>2</td>\n    </tr>\n    <tr>\n      <th>2</th>\n      <td>2</td>\n      <td>3</td>\n      <td>303</td>\n      <td>Chiang Rai</td>\n      <td>Northern</td>\n      <td>19.961389</td>\n      <td>99.881389</td>\n      <td>0</td>\n      <td>0.5173004269599915</td>\n      <td>0.2576569616794586</td>\n      <td>...</td>\n      <td>0</td>\n      <td>0</td>\n      <td>0</td>\n      <td>0</td>\n      <td>0</td>\n      <td>0</td>\n      <td>3.2337076663970947</td>\n      <td>2022</td>\n      <td>7</td>\n      <td>2</td>\n    </tr>\n    <tr>\n      <th>3</th>\n      <td>3</td>\n      <td>4</td>\n      <td>304</td>\n      <td>Chiang Rai (1)</td>\n      <td>Northern</td>\n      <td>19.870833</td>\n      <td>99.782778</td>\n      <td>0</td>\n      <td>0.31870177388191223</td>\n      <td>0.2236250340938568</td>\n      <td>...</td>\n      <td>0</td>\n      <td>0</td>\n      <td>0</td>\n      <td>0</td>\n      <td>0</td>\n      <td>0</td>\n      <td>2.828620433807373</td>\n      <td>2022</td>\n      <td>7</td>\n      <td>2</td>\n    </tr>\n    <tr>\n      <th>4</th>\n      <td>4</td>\n      <td>5</td>\n      <td>310</td>\n      <td>Phayao</td>\n      <td>Northern</td>\n      <td>19.133333</td>\n      <td>99.900000</td>\n      <td>0</td>\n      <td>0</td>\n      <td>0</td>\n      <td>...</td>\n      <td>0</td>\n      <td>0</td>\n      <td>0</td>\n      <td>0</td>\n      <td>0</td>\n      <td>0</td>\n      <td>2.6045122146606445</td>\n      <td>2022</td>\n      <td>7</td>\n      <td>2</td>\n    </tr>\n  </tbody>\n</table>\n<p>5 rows × 35 columns</p>\n</div>"
     },
     "execution_count": 22,
     "metadata": {},
     "output_type": "execute_result"
    }
   ],
   "source": [
    "dfg = app.df_interpolate_nan(path='gsmap2022.xlsx')\n",
    "dfg.head()"
   ],
   "metadata": {
    "collapsed": false
   }
  },
  {
   "cell_type": "code",
   "execution_count": 23,
   "outputs": [
    {
     "data": {
      "text/plain": "   Unnamed: 0.1  ID  WMO_CODE         NAME_EN    Region   Latitude  Longitude  \\\n0             0   1       300    Mae Hong Son  Northern  19.298972  97.975778   \n1             1   2       325     Mae Sariang  Northern  18.166667  97.933333   \n2             2   3       303      Chiang Rai  Northern  19.961389  99.881389   \n3             3   4       304  Chiang Rai (1)  Northern  19.870833  99.782778   \n4             4   5       310          Phayao  Northern  19.133333  99.900000   \n\n  00Z 01Z 02Z  ... 18Z 19Z 20Z 21Z 22Z 23Z sum  year month day  \n0   0   0   0  ...   0   0   0   0   0   0   0  2022     3   9  \n1   0   0   0  ...   0   0   0   0   0   0   0  2022     3   9  \n2   0   0   0  ...   0   0   0   0   0   0   0  2022     3   9  \n3   0   0   0  ...   0   0   0   0   0   0   0  2022     3   9  \n4   0   0   0  ...   0   0   0   0   0   0   0  2022     3   9  \n\n[5 rows x 35 columns]",
      "text/html": "<div>\n<style scoped>\n    .dataframe tbody tr th:only-of-type {\n        vertical-align: middle;\n    }\n\n    .dataframe tbody tr th {\n        vertical-align: top;\n    }\n\n    .dataframe thead th {\n        text-align: right;\n    }\n</style>\n<table border=\"1\" class=\"dataframe\">\n  <thead>\n    <tr style=\"text-align: right;\">\n      <th></th>\n      <th>Unnamed: 0.1</th>\n      <th>ID</th>\n      <th>WMO_CODE</th>\n      <th>NAME_EN</th>\n      <th>Region</th>\n      <th>Latitude</th>\n      <th>Longitude</th>\n      <th>00Z</th>\n      <th>01Z</th>\n      <th>02Z</th>\n      <th>...</th>\n      <th>18Z</th>\n      <th>19Z</th>\n      <th>20Z</th>\n      <th>21Z</th>\n      <th>22Z</th>\n      <th>23Z</th>\n      <th>sum</th>\n      <th>year</th>\n      <th>month</th>\n      <th>day</th>\n    </tr>\n  </thead>\n  <tbody>\n    <tr>\n      <th>0</th>\n      <td>0</td>\n      <td>1</td>\n      <td>300</td>\n      <td>Mae Hong Son</td>\n      <td>Northern</td>\n      <td>19.298972</td>\n      <td>97.975778</td>\n      <td>0</td>\n      <td>0</td>\n      <td>0</td>\n      <td>...</td>\n      <td>0</td>\n      <td>0</td>\n      <td>0</td>\n      <td>0</td>\n      <td>0</td>\n      <td>0</td>\n      <td>0</td>\n      <td>2022</td>\n      <td>3</td>\n      <td>9</td>\n    </tr>\n    <tr>\n      <th>1</th>\n      <td>1</td>\n      <td>2</td>\n      <td>325</td>\n      <td>Mae Sariang</td>\n      <td>Northern</td>\n      <td>18.166667</td>\n      <td>97.933333</td>\n      <td>0</td>\n      <td>0</td>\n      <td>0</td>\n      <td>...</td>\n      <td>0</td>\n      <td>0</td>\n      <td>0</td>\n      <td>0</td>\n      <td>0</td>\n      <td>0</td>\n      <td>0</td>\n      <td>2022</td>\n      <td>3</td>\n      <td>9</td>\n    </tr>\n    <tr>\n      <th>2</th>\n      <td>2</td>\n      <td>3</td>\n      <td>303</td>\n      <td>Chiang Rai</td>\n      <td>Northern</td>\n      <td>19.961389</td>\n      <td>99.881389</td>\n      <td>0</td>\n      <td>0</td>\n      <td>0</td>\n      <td>...</td>\n      <td>0</td>\n      <td>0</td>\n      <td>0</td>\n      <td>0</td>\n      <td>0</td>\n      <td>0</td>\n      <td>0</td>\n      <td>2022</td>\n      <td>3</td>\n      <td>9</td>\n    </tr>\n    <tr>\n      <th>3</th>\n      <td>3</td>\n      <td>4</td>\n      <td>304</td>\n      <td>Chiang Rai (1)</td>\n      <td>Northern</td>\n      <td>19.870833</td>\n      <td>99.782778</td>\n      <td>0</td>\n      <td>0</td>\n      <td>0</td>\n      <td>...</td>\n      <td>0</td>\n      <td>0</td>\n      <td>0</td>\n      <td>0</td>\n      <td>0</td>\n      <td>0</td>\n      <td>0</td>\n      <td>2022</td>\n      <td>3</td>\n      <td>9</td>\n    </tr>\n    <tr>\n      <th>4</th>\n      <td>4</td>\n      <td>5</td>\n      <td>310</td>\n      <td>Phayao</td>\n      <td>Northern</td>\n      <td>19.133333</td>\n      <td>99.900000</td>\n      <td>0</td>\n      <td>0</td>\n      <td>0</td>\n      <td>...</td>\n      <td>0</td>\n      <td>0</td>\n      <td>0</td>\n      <td>0</td>\n      <td>0</td>\n      <td>0</td>\n      <td>0</td>\n      <td>2022</td>\n      <td>3</td>\n      <td>9</td>\n    </tr>\n  </tbody>\n</table>\n<p>5 rows × 35 columns</p>\n</div>"
     },
     "execution_count": 23,
     "metadata": {},
     "output_type": "execute_result"
    }
   ],
   "source": [
    "dfp = app.df_interpolate_nan(path='persiann2022.xlsx')\n",
    "dfp.head()"
   ],
   "metadata": {
    "collapsed": false
   }
  },
  {
   "cell_type": "code",
   "execution_count": 24,
   "outputs": [
    {
     "data": {
      "text/plain": "         index                                    station  \\\n0            0                                บ้านบางกุ่ม   \n1          773                     สถานีวิจัยต้นน้ำคีรีวง   \n2          772                                    เปร็ดใน   \n3          771                                 ทต.ห้องแซง   \n4          770                    สะพานบางไตประชาบริรักษ์   \n...        ...                                        ...   \n134263  133127             สถานีหน่วยพิทักษ์ป่าอ่าวท่ายาง   \n134264  133126  สถานีหน่วยอนุรักษ์และจัดการต้นน้ำคลองอุดม   \n134265  133125                             สถานีเชียงใหม่   \n134266  133123                        สถานีบ้านแม่ป๋ามนอก   \n134267  134267                       สถานีปตร.ประชาร่วมใจ   \n\n                                        address      time  rainfall  date  \\\n0                         ต.กะปง อ.กะปง จ.พังงา  00:00 น.       2.5     0   \n1              ต.กำโลน อ.ลานสกา จ.นครศรีธรรมราช  00:00 น.       0.2     0   \n2               ต.ห้วงน้ำขาว อ.เมืองตราด จ.ตราด  00:00 น.       0.4     0   \n3                  ต.ห้องแซง อ.เลิงนกทา จ.ยโสธร  00:00 น.       0.4     0   \n4         ต.ตะกุกเหนือ อ.วิภาวดี จ.สุราษฎร์ธานี  00:00 น.       0.4     0   \n...                                         ...       ...       ...   ...   \n134263          ต.เกาะหมาก อ.ปากพะยูน จ.พัทลุง     22:00        1.4     0   \n134264         ต.วังทอง อ.วังสมบูรณ์ จ.สระแก้ว     22:00        1.4     0   \n134265  ต.ศรีภูมิ อ.เมืองเชียงใหม่ จ.เชียงใหม่     19:00        1.1     0   \n134266        ต.ปิงโค้ง อ.เชียงดาว จ.เชียงใหม่     21:00        1.0     0   \n134267      ต.แสนแสบ อ.มีนบุรี จ.กรุงเทพมหานคร     22:00       19.0     0   \n\n              lat        long english_day  month  day  year  \n0        8.665887   98.452998         Fri      5   27  2022  \n1        8.432136   99.768825         Fri      5   27  2022  \n2       12.142047  102.529795         Fri      5   27  2022  \n3       16.268099  104.405860         Fri      5   27  2022  \n4        9.282494   98.876948         Fri      5   27  2022  \n...           ...         ...         ...    ...  ...   ...  \n134263   0.000000    0.000000         Mon      8   29  2022  \n134264   0.000000    0.000000         Mon      8   29  2022  \n134265   0.000000    0.000000         Mon      8   29  2022  \n134266   0.000000    0.000000         Mon      8   29  2022  \n134267   0.000000    0.000000         Mon      8   29  2022  \n\n[134268 rows x 12 columns]",
      "text/html": "<div>\n<style scoped>\n    .dataframe tbody tr th:only-of-type {\n        vertical-align: middle;\n    }\n\n    .dataframe tbody tr th {\n        vertical-align: top;\n    }\n\n    .dataframe thead th {\n        text-align: right;\n    }\n</style>\n<table border=\"1\" class=\"dataframe\">\n  <thead>\n    <tr style=\"text-align: right;\">\n      <th></th>\n      <th>index</th>\n      <th>station</th>\n      <th>address</th>\n      <th>time</th>\n      <th>rainfall</th>\n      <th>date</th>\n      <th>lat</th>\n      <th>long</th>\n      <th>english_day</th>\n      <th>month</th>\n      <th>day</th>\n      <th>year</th>\n    </tr>\n  </thead>\n  <tbody>\n    <tr>\n      <th>0</th>\n      <td>0</td>\n      <td>บ้านบางกุ่ม</td>\n      <td>ต.กะปง อ.กะปง จ.พังงา</td>\n      <td>00:00 น.</td>\n      <td>2.5</td>\n      <td>0</td>\n      <td>8.665887</td>\n      <td>98.452998</td>\n      <td>Fri</td>\n      <td>5</td>\n      <td>27</td>\n      <td>2022</td>\n    </tr>\n    <tr>\n      <th>1</th>\n      <td>773</td>\n      <td>สถานีวิจัยต้นน้ำคีรีวง</td>\n      <td>ต.กำโลน อ.ลานสกา จ.นครศรีธรรมราช</td>\n      <td>00:00 น.</td>\n      <td>0.2</td>\n      <td>0</td>\n      <td>8.432136</td>\n      <td>99.768825</td>\n      <td>Fri</td>\n      <td>5</td>\n      <td>27</td>\n      <td>2022</td>\n    </tr>\n    <tr>\n      <th>2</th>\n      <td>772</td>\n      <td>เปร็ดใน</td>\n      <td>ต.ห้วงน้ำขาว อ.เมืองตราด จ.ตราด</td>\n      <td>00:00 น.</td>\n      <td>0.4</td>\n      <td>0</td>\n      <td>12.142047</td>\n      <td>102.529795</td>\n      <td>Fri</td>\n      <td>5</td>\n      <td>27</td>\n      <td>2022</td>\n    </tr>\n    <tr>\n      <th>3</th>\n      <td>771</td>\n      <td>ทต.ห้องแซง</td>\n      <td>ต.ห้องแซง อ.เลิงนกทา จ.ยโสธร</td>\n      <td>00:00 น.</td>\n      <td>0.4</td>\n      <td>0</td>\n      <td>16.268099</td>\n      <td>104.405860</td>\n      <td>Fri</td>\n      <td>5</td>\n      <td>27</td>\n      <td>2022</td>\n    </tr>\n    <tr>\n      <th>4</th>\n      <td>770</td>\n      <td>สะพานบางไตประชาบริรักษ์</td>\n      <td>ต.ตะกุกเหนือ อ.วิภาวดี จ.สุราษฎร์ธานี</td>\n      <td>00:00 น.</td>\n      <td>0.4</td>\n      <td>0</td>\n      <td>9.282494</td>\n      <td>98.876948</td>\n      <td>Fri</td>\n      <td>5</td>\n      <td>27</td>\n      <td>2022</td>\n    </tr>\n    <tr>\n      <th>...</th>\n      <td>...</td>\n      <td>...</td>\n      <td>...</td>\n      <td>...</td>\n      <td>...</td>\n      <td>...</td>\n      <td>...</td>\n      <td>...</td>\n      <td>...</td>\n      <td>...</td>\n      <td>...</td>\n      <td>...</td>\n    </tr>\n    <tr>\n      <th>134263</th>\n      <td>133127</td>\n      <td>สถานีหน่วยพิทักษ์ป่าอ่าวท่ายาง</td>\n      <td>ต.เกาะหมาก อ.ปากพะยูน จ.พัทลุง</td>\n      <td>22:00</td>\n      <td>1.4</td>\n      <td>0</td>\n      <td>0.000000</td>\n      <td>0.000000</td>\n      <td>Mon</td>\n      <td>8</td>\n      <td>29</td>\n      <td>2022</td>\n    </tr>\n    <tr>\n      <th>134264</th>\n      <td>133126</td>\n      <td>สถานีหน่วยอนุรักษ์และจัดการต้นน้ำคลองอุดม</td>\n      <td>ต.วังทอง อ.วังสมบูรณ์ จ.สระแก้ว</td>\n      <td>22:00</td>\n      <td>1.4</td>\n      <td>0</td>\n      <td>0.000000</td>\n      <td>0.000000</td>\n      <td>Mon</td>\n      <td>8</td>\n      <td>29</td>\n      <td>2022</td>\n    </tr>\n    <tr>\n      <th>134265</th>\n      <td>133125</td>\n      <td>สถานีเชียงใหม่</td>\n      <td>ต.ศรีภูมิ อ.เมืองเชียงใหม่ จ.เชียงใหม่</td>\n      <td>19:00</td>\n      <td>1.1</td>\n      <td>0</td>\n      <td>0.000000</td>\n      <td>0.000000</td>\n      <td>Mon</td>\n      <td>8</td>\n      <td>29</td>\n      <td>2022</td>\n    </tr>\n    <tr>\n      <th>134266</th>\n      <td>133123</td>\n      <td>สถานีบ้านแม่ป๋ามนอก</td>\n      <td>ต.ปิงโค้ง อ.เชียงดาว จ.เชียงใหม่</td>\n      <td>21:00</td>\n      <td>1.0</td>\n      <td>0</td>\n      <td>0.000000</td>\n      <td>0.000000</td>\n      <td>Mon</td>\n      <td>8</td>\n      <td>29</td>\n      <td>2022</td>\n    </tr>\n    <tr>\n      <th>134267</th>\n      <td>134267</td>\n      <td>สถานีปตร.ประชาร่วมใจ</td>\n      <td>ต.แสนแสบ อ.มีนบุรี จ.กรุงเทพมหานคร</td>\n      <td>22:00</td>\n      <td>19.0</td>\n      <td>0</td>\n      <td>0.000000</td>\n      <td>0.000000</td>\n      <td>Mon</td>\n      <td>8</td>\n      <td>29</td>\n      <td>2022</td>\n    </tr>\n  </tbody>\n</table>\n<p>134268 rows × 12 columns</p>\n</div>"
     },
     "execution_count": 24,
     "metadata": {},
     "output_type": "execute_result"
    }
   ],
   "source": [
    "dft = app.df_interpolate_nan(path='new_thaiwater.xlsx', rainfall='rainfall')\n",
    "dft"
   ],
   "metadata": {
    "collapsed": false
   }
  },
  {
   "cell_type": "code",
   "execution_count": 25,
   "outputs": [
    {
     "name": "stderr",
     "output_type": "stream",
     "text": [
      "/Users/kmac15/PycharmProjects/rain-gauge/plot_lib/plot_rainfall.py:16: SettingWithCopyWarning: \n",
      "A value is trying to be set on a copy of a slice from a DataFrame.\n",
      "Try using .loc[row_indexer,col_indexer] = value instead\n",
      "\n",
      "See the caveats in the documentation: https://pandas.pydata.org/pandas-docs/stable/user_guide/indexing.html#returning-a-view-versus-a-copy\n",
      "  df['date'] = date\n",
      "/Users/kmac15/PycharmProjects/rain-gauge/plot_lib/plot_rainfall.py:17: SettingWithCopyWarning: \n",
      "A value is trying to be set on a copy of a slice from a DataFrame.\n",
      "Try using .loc[row_indexer,col_indexer] = value instead\n",
      "\n",
      "See the caveats in the documentation: https://pandas.pydata.org/pandas-docs/stable/user_guide/indexing.html#returning-a-view-versus-a-copy\n",
      "  df['english_day'] = df.date.dt.strftime('%a')\n"
     ]
    },
    {
     "data": {
      "text/plain": "       level_0   index                       station  \\\n0            0       0                   บ้านบางกุ่ม   \n1          773       6       อ่างเก็บน้ำห้วยซับเหล็ก   \n2          772     576                    บ้านนาล้อม   \n3          771       1                   บ้านทุ่งไพล   \n4          770       2  ปตร.กระมัง (ปากคลองข้าวเม่า)   \n...        ...     ...                           ...   \n53461   133013  134111                             0   \n53462   133063  134061                             0   \n53463   133092  134085                             0   \n53464   132866  133459                             0   \n53465   134252  133138                             0   \n\n                                           address      time  rainfall  \\\n0                            ต.กะปง อ.กะปง จ.พังงา  00:00 น.       2.5   \n1                  ต.โคกตูม อ.เมืองลพบุรี จ.ลพบุรี  17:00 น.       2.8   \n2                 ต.ป่าแดง อ.ชาติตระการ จ.พิษณุโลก  00:00 น.       1.5   \n3                     ต.เขาแดง อ.สะบ้าย้อย จ.สงขลา  00:00 น.       3.0   \n4      ต.หัวรอ อ.พระนครศรีอยุธยา จ.พระนครศรีอยุธยา  00:00 น.       3.0   \n...                                            ...       ...       ...   \n53461     ต.ทุ่งสองห้อง อ.หลักสี่ จ.กรุงเทพมหานคร     22:00       40.5   \n53462                  ต.โละจูด อ.แว้ง จ.นราธิวาส     22:00       73.6   \n53463                                            0    22:00        0.8   \n53464         ต.จตุจักร อ.จตุจักร จ.กรุงเทพมหานคร     22:00       25.0   \n53465           ต.ป่ากุมเกาะ อ.สวรรคโลก จ.สุโขทัย     22:00        1.2   \n\n                           date        lat        long english_day  month  \\\n0     2022-05-27 07:00:00+07:00   8.665887   98.452998         Fri      5   \n1     2022-05-27 07:00:00+07:00  14.814824  100.775807         Fri      5   \n2     2022-05-27 07:00:00+07:00  17.282264  100.536001         Fri      5   \n3     2022-05-27 07:00:00+07:00   6.547667  100.836956         Fri      5   \n4     2022-05-27 07:00:00+07:00  14.355067  100.583584         Fri      5   \n...                         ...        ...         ...         ...    ...   \n53461 2022-08-29 07:00:00+07:00  14.496046  102.247224         Mon      8   \n53462 2022-08-29 07:00:00+07:00  14.496046  102.247224         Mon      8   \n53463 2022-08-29 07:00:00+07:00  14.496046  102.247224         Mon      8   \n53464 2022-08-29 07:00:00+07:00  14.496046  102.247224         Mon      8   \n53465 2022-08-29 07:00:00+07:00  14.496046  102.247224         Mon      8   \n\n       day  year  \n0       27  2022  \n1       27  2022  \n2       27  2022  \n3       27  2022  \n4       27  2022  \n...    ...   ...  \n53461   29  2022  \n53462   29  2022  \n53463   29  2022  \n53464   29  2022  \n53465   29  2022  \n\n[53466 rows x 13 columns]",
      "text/html": "<div>\n<style scoped>\n    .dataframe tbody tr th:only-of-type {\n        vertical-align: middle;\n    }\n\n    .dataframe tbody tr th {\n        vertical-align: top;\n    }\n\n    .dataframe thead th {\n        text-align: right;\n    }\n</style>\n<table border=\"1\" class=\"dataframe\">\n  <thead>\n    <tr style=\"text-align: right;\">\n      <th></th>\n      <th>level_0</th>\n      <th>index</th>\n      <th>station</th>\n      <th>address</th>\n      <th>time</th>\n      <th>rainfall</th>\n      <th>date</th>\n      <th>lat</th>\n      <th>long</th>\n      <th>english_day</th>\n      <th>month</th>\n      <th>day</th>\n      <th>year</th>\n    </tr>\n  </thead>\n  <tbody>\n    <tr>\n      <th>0</th>\n      <td>0</td>\n      <td>0</td>\n      <td>บ้านบางกุ่ม</td>\n      <td>ต.กะปง อ.กะปง จ.พังงา</td>\n      <td>00:00 น.</td>\n      <td>2.5</td>\n      <td>2022-05-27 07:00:00+07:00</td>\n      <td>8.665887</td>\n      <td>98.452998</td>\n      <td>Fri</td>\n      <td>5</td>\n      <td>27</td>\n      <td>2022</td>\n    </tr>\n    <tr>\n      <th>1</th>\n      <td>773</td>\n      <td>6</td>\n      <td>อ่างเก็บน้ำห้วยซับเหล็ก</td>\n      <td>ต.โคกตูม อ.เมืองลพบุรี จ.ลพบุรี</td>\n      <td>17:00 น.</td>\n      <td>2.8</td>\n      <td>2022-05-27 07:00:00+07:00</td>\n      <td>14.814824</td>\n      <td>100.775807</td>\n      <td>Fri</td>\n      <td>5</td>\n      <td>27</td>\n      <td>2022</td>\n    </tr>\n    <tr>\n      <th>2</th>\n      <td>772</td>\n      <td>576</td>\n      <td>บ้านนาล้อม</td>\n      <td>ต.ป่าแดง อ.ชาติตระการ จ.พิษณุโลก</td>\n      <td>00:00 น.</td>\n      <td>1.5</td>\n      <td>2022-05-27 07:00:00+07:00</td>\n      <td>17.282264</td>\n      <td>100.536001</td>\n      <td>Fri</td>\n      <td>5</td>\n      <td>27</td>\n      <td>2022</td>\n    </tr>\n    <tr>\n      <th>3</th>\n      <td>771</td>\n      <td>1</td>\n      <td>บ้านทุ่งไพล</td>\n      <td>ต.เขาแดง อ.สะบ้าย้อย จ.สงขลา</td>\n      <td>00:00 น.</td>\n      <td>3.0</td>\n      <td>2022-05-27 07:00:00+07:00</td>\n      <td>6.547667</td>\n      <td>100.836956</td>\n      <td>Fri</td>\n      <td>5</td>\n      <td>27</td>\n      <td>2022</td>\n    </tr>\n    <tr>\n      <th>4</th>\n      <td>770</td>\n      <td>2</td>\n      <td>ปตร.กระมัง (ปากคลองข้าวเม่า)</td>\n      <td>ต.หัวรอ อ.พระนครศรีอยุธยา จ.พระนครศรีอยุธยา</td>\n      <td>00:00 น.</td>\n      <td>3.0</td>\n      <td>2022-05-27 07:00:00+07:00</td>\n      <td>14.355067</td>\n      <td>100.583584</td>\n      <td>Fri</td>\n      <td>5</td>\n      <td>27</td>\n      <td>2022</td>\n    </tr>\n    <tr>\n      <th>...</th>\n      <td>...</td>\n      <td>...</td>\n      <td>...</td>\n      <td>...</td>\n      <td>...</td>\n      <td>...</td>\n      <td>...</td>\n      <td>...</td>\n      <td>...</td>\n      <td>...</td>\n      <td>...</td>\n      <td>...</td>\n      <td>...</td>\n    </tr>\n    <tr>\n      <th>53461</th>\n      <td>133013</td>\n      <td>134111</td>\n      <td>0</td>\n      <td>ต.ทุ่งสองห้อง อ.หลักสี่ จ.กรุงเทพมหานคร</td>\n      <td>22:00</td>\n      <td>40.5</td>\n      <td>2022-08-29 07:00:00+07:00</td>\n      <td>14.496046</td>\n      <td>102.247224</td>\n      <td>Mon</td>\n      <td>8</td>\n      <td>29</td>\n      <td>2022</td>\n    </tr>\n    <tr>\n      <th>53462</th>\n      <td>133063</td>\n      <td>134061</td>\n      <td>0</td>\n      <td>ต.โละจูด อ.แว้ง จ.นราธิวาส</td>\n      <td>22:00</td>\n      <td>73.6</td>\n      <td>2022-08-29 07:00:00+07:00</td>\n      <td>14.496046</td>\n      <td>102.247224</td>\n      <td>Mon</td>\n      <td>8</td>\n      <td>29</td>\n      <td>2022</td>\n    </tr>\n    <tr>\n      <th>53463</th>\n      <td>133092</td>\n      <td>134085</td>\n      <td>0</td>\n      <td>0</td>\n      <td>22:00</td>\n      <td>0.8</td>\n      <td>2022-08-29 07:00:00+07:00</td>\n      <td>14.496046</td>\n      <td>102.247224</td>\n      <td>Mon</td>\n      <td>8</td>\n      <td>29</td>\n      <td>2022</td>\n    </tr>\n    <tr>\n      <th>53464</th>\n      <td>132866</td>\n      <td>133459</td>\n      <td>0</td>\n      <td>ต.จตุจักร อ.จตุจักร จ.กรุงเทพมหานคร</td>\n      <td>22:00</td>\n      <td>25.0</td>\n      <td>2022-08-29 07:00:00+07:00</td>\n      <td>14.496046</td>\n      <td>102.247224</td>\n      <td>Mon</td>\n      <td>8</td>\n      <td>29</td>\n      <td>2022</td>\n    </tr>\n    <tr>\n      <th>53465</th>\n      <td>134252</td>\n      <td>133138</td>\n      <td>0</td>\n      <td>ต.ป่ากุมเกาะ อ.สวรรคโลก จ.สุโขทัย</td>\n      <td>22:00</td>\n      <td>1.2</td>\n      <td>2022-08-29 07:00:00+07:00</td>\n      <td>14.496046</td>\n      <td>102.247224</td>\n      <td>Mon</td>\n      <td>8</td>\n      <td>29</td>\n      <td>2022</td>\n    </tr>\n  </tbody>\n</table>\n<p>53466 rows × 13 columns</p>\n</div>"
     },
     "execution_count": 25,
     "metadata": {},
     "output_type": "execute_result"
    }
   ],
   "source": [
    "dft = dft.loc[dft['lat'] > 0]\n",
    "dft = integrate_datetime(dft, sum=False)\n",
    "dft"
   ],
   "metadata": {
    "collapsed": false
   }
  },
  {
   "cell_type": "code",
   "execution_count": 26,
   "outputs": [
    {
     "data": {
      "text/plain": "   index  Unnamed: 0.1   ID  WMO_CODE        NAME_EN              Region  \\\n0  15497           122  123       570          Satun  Southern WestCoast   \n1  15406            31   32       353           Loei        Northeastern   \n2  15407            32   33       350       Loei (1)        Northeastern   \n3  15408            33   34       354     Udon Thani        Northeastern   \n4  15409            34   35       357  Nakhon Phanom        Northeastern   \n\n    Latitude   Longitude 00Z 01Z  ... 20Z 21Z 22Z 23Z        sum  year month  \\\n0   6.650000  100.083334   0   0  ...   0   0   0   0  13.146708  2021    11   \n1  17.450000  101.733333   0   0  ...   0   0   0   0   0.000000  2021    11   \n2  17.400000  101.733333   0   0  ...   0   0   0   0   0.000000  2021    11   \n3  17.383333  102.800000   0   0  ...   0   0   0   0   0.000000  2021    11   \n4  17.410833  104.782500   0   0  ...   0   0   0   0   0.000000  2021    11   \n\n  day                      date english_day  \n0  22 2021-11-22 07:00:00+07:00         Mon  \n1  22 2021-11-22 07:00:00+07:00         Mon  \n2  22 2021-11-22 07:00:00+07:00         Mon  \n3  22 2021-11-22 07:00:00+07:00         Mon  \n4  22 2021-11-22 07:00:00+07:00         Mon  \n\n[5 rows x 38 columns]",
      "text/html": "<div>\n<style scoped>\n    .dataframe tbody tr th:only-of-type {\n        vertical-align: middle;\n    }\n\n    .dataframe tbody tr th {\n        vertical-align: top;\n    }\n\n    .dataframe thead th {\n        text-align: right;\n    }\n</style>\n<table border=\"1\" class=\"dataframe\">\n  <thead>\n    <tr style=\"text-align: right;\">\n      <th></th>\n      <th>index</th>\n      <th>Unnamed: 0.1</th>\n      <th>ID</th>\n      <th>WMO_CODE</th>\n      <th>NAME_EN</th>\n      <th>Region</th>\n      <th>Latitude</th>\n      <th>Longitude</th>\n      <th>00Z</th>\n      <th>01Z</th>\n      <th>...</th>\n      <th>20Z</th>\n      <th>21Z</th>\n      <th>22Z</th>\n      <th>23Z</th>\n      <th>sum</th>\n      <th>year</th>\n      <th>month</th>\n      <th>day</th>\n      <th>date</th>\n      <th>english_day</th>\n    </tr>\n  </thead>\n  <tbody>\n    <tr>\n      <th>0</th>\n      <td>15497</td>\n      <td>122</td>\n      <td>123</td>\n      <td>570</td>\n      <td>Satun</td>\n      <td>Southern WestCoast</td>\n      <td>6.650000</td>\n      <td>100.083334</td>\n      <td>0</td>\n      <td>0</td>\n      <td>...</td>\n      <td>0</td>\n      <td>0</td>\n      <td>0</td>\n      <td>0</td>\n      <td>13.146708</td>\n      <td>2021</td>\n      <td>11</td>\n      <td>22</td>\n      <td>2021-11-22 07:00:00+07:00</td>\n      <td>Mon</td>\n    </tr>\n    <tr>\n      <th>1</th>\n      <td>15406</td>\n      <td>31</td>\n      <td>32</td>\n      <td>353</td>\n      <td>Loei</td>\n      <td>Northeastern</td>\n      <td>17.450000</td>\n      <td>101.733333</td>\n      <td>0</td>\n      <td>0</td>\n      <td>...</td>\n      <td>0</td>\n      <td>0</td>\n      <td>0</td>\n      <td>0</td>\n      <td>0.000000</td>\n      <td>2021</td>\n      <td>11</td>\n      <td>22</td>\n      <td>2021-11-22 07:00:00+07:00</td>\n      <td>Mon</td>\n    </tr>\n    <tr>\n      <th>2</th>\n      <td>15407</td>\n      <td>32</td>\n      <td>33</td>\n      <td>350</td>\n      <td>Loei (1)</td>\n      <td>Northeastern</td>\n      <td>17.400000</td>\n      <td>101.733333</td>\n      <td>0</td>\n      <td>0</td>\n      <td>...</td>\n      <td>0</td>\n      <td>0</td>\n      <td>0</td>\n      <td>0</td>\n      <td>0.000000</td>\n      <td>2021</td>\n      <td>11</td>\n      <td>22</td>\n      <td>2021-11-22 07:00:00+07:00</td>\n      <td>Mon</td>\n    </tr>\n    <tr>\n      <th>3</th>\n      <td>15408</td>\n      <td>33</td>\n      <td>34</td>\n      <td>354</td>\n      <td>Udon Thani</td>\n      <td>Northeastern</td>\n      <td>17.383333</td>\n      <td>102.800000</td>\n      <td>0</td>\n      <td>0</td>\n      <td>...</td>\n      <td>0</td>\n      <td>0</td>\n      <td>0</td>\n      <td>0</td>\n      <td>0.000000</td>\n      <td>2021</td>\n      <td>11</td>\n      <td>22</td>\n      <td>2021-11-22 07:00:00+07:00</td>\n      <td>Mon</td>\n    </tr>\n    <tr>\n      <th>4</th>\n      <td>15409</td>\n      <td>34</td>\n      <td>35</td>\n      <td>357</td>\n      <td>Nakhon Phanom</td>\n      <td>Northeastern</td>\n      <td>17.410833</td>\n      <td>104.782500</td>\n      <td>0</td>\n      <td>0</td>\n      <td>...</td>\n      <td>0</td>\n      <td>0</td>\n      <td>0</td>\n      <td>0</td>\n      <td>0.000000</td>\n      <td>2021</td>\n      <td>11</td>\n      <td>22</td>\n      <td>2021-11-22 07:00:00+07:00</td>\n      <td>Mon</td>\n    </tr>\n  </tbody>\n</table>\n<p>5 rows × 38 columns</p>\n</div>"
     },
     "execution_count": 26,
     "metadata": {},
     "output_type": "execute_result"
    }
   ],
   "source": [
    "dfg = integrate_datetime(dfg)\n",
    "dfg.head()"
   ],
   "metadata": {
    "collapsed": false
   }
  },
  {
   "cell_type": "code",
   "execution_count": 27,
   "outputs": [
    {
     "data": {
      "text/plain": "   index  Unnamed: 0.1  ID  WMO_CODE         NAME_EN              Region  \\\n0   4062             3   4       304  Chiang Rai (1)            Northern   \n1   4153            94  95       465     Phetchaburi  Southern EastCoast   \n2   4152            93  94       501      Khlong Yai             Eastern   \n3   4151            92  93       481       Pluei (1)             Eastern   \n4   4150            91  92       480     Chanthaburi             Eastern   \n\n    Latitude   Longitude                00Z 01Z  ...                  20Z  \\\n0  19.870833   99.782778                  0   0  ...                    0   \n1  12.999306  100.060528  8.510000228881836   0  ...                    0   \n2  11.766667  102.883334                  0   0  ...     6.28000020980835   \n3  12.508611  102.173056                  0   0  ...  0.03999999910593033   \n4  12.616667  102.113333                  0   0  ...                    0   \n\n                  21Z                 22Z                 23Z        sum  \\\n0                   0                   0                   0   0.000000   \n1                   0                   0                   0   8.510000   \n2  1.3600000143051147                   0                   0  22.890001   \n3                   0                   0                   0   1.560000   \n4                   0  0.6700000166893005  1.2799999713897705   1.950000   \n\n   year month day                      date english_day  \n0  2021    11  17 2021-11-17 07:00:00+07:00         Wed  \n1  2021    11  17 2021-11-17 07:00:00+07:00         Wed  \n2  2021    11  17 2021-11-17 07:00:00+07:00         Wed  \n3  2021    11  17 2021-11-17 07:00:00+07:00         Wed  \n4  2021    11  17 2021-11-17 07:00:00+07:00         Wed  \n\n[5 rows x 38 columns]",
      "text/html": "<div>\n<style scoped>\n    .dataframe tbody tr th:only-of-type {\n        vertical-align: middle;\n    }\n\n    .dataframe tbody tr th {\n        vertical-align: top;\n    }\n\n    .dataframe thead th {\n        text-align: right;\n    }\n</style>\n<table border=\"1\" class=\"dataframe\">\n  <thead>\n    <tr style=\"text-align: right;\">\n      <th></th>\n      <th>index</th>\n      <th>Unnamed: 0.1</th>\n      <th>ID</th>\n      <th>WMO_CODE</th>\n      <th>NAME_EN</th>\n      <th>Region</th>\n      <th>Latitude</th>\n      <th>Longitude</th>\n      <th>00Z</th>\n      <th>01Z</th>\n      <th>...</th>\n      <th>20Z</th>\n      <th>21Z</th>\n      <th>22Z</th>\n      <th>23Z</th>\n      <th>sum</th>\n      <th>year</th>\n      <th>month</th>\n      <th>day</th>\n      <th>date</th>\n      <th>english_day</th>\n    </tr>\n  </thead>\n  <tbody>\n    <tr>\n      <th>0</th>\n      <td>4062</td>\n      <td>3</td>\n      <td>4</td>\n      <td>304</td>\n      <td>Chiang Rai (1)</td>\n      <td>Northern</td>\n      <td>19.870833</td>\n      <td>99.782778</td>\n      <td>0</td>\n      <td>0</td>\n      <td>...</td>\n      <td>0</td>\n      <td>0</td>\n      <td>0</td>\n      <td>0</td>\n      <td>0.000000</td>\n      <td>2021</td>\n      <td>11</td>\n      <td>17</td>\n      <td>2021-11-17 07:00:00+07:00</td>\n      <td>Wed</td>\n    </tr>\n    <tr>\n      <th>1</th>\n      <td>4153</td>\n      <td>94</td>\n      <td>95</td>\n      <td>465</td>\n      <td>Phetchaburi</td>\n      <td>Southern EastCoast</td>\n      <td>12.999306</td>\n      <td>100.060528</td>\n      <td>8.510000228881836</td>\n      <td>0</td>\n      <td>...</td>\n      <td>0</td>\n      <td>0</td>\n      <td>0</td>\n      <td>0</td>\n      <td>8.510000</td>\n      <td>2021</td>\n      <td>11</td>\n      <td>17</td>\n      <td>2021-11-17 07:00:00+07:00</td>\n      <td>Wed</td>\n    </tr>\n    <tr>\n      <th>2</th>\n      <td>4152</td>\n      <td>93</td>\n      <td>94</td>\n      <td>501</td>\n      <td>Khlong Yai</td>\n      <td>Eastern</td>\n      <td>11.766667</td>\n      <td>102.883334</td>\n      <td>0</td>\n      <td>0</td>\n      <td>...</td>\n      <td>6.28000020980835</td>\n      <td>1.3600000143051147</td>\n      <td>0</td>\n      <td>0</td>\n      <td>22.890001</td>\n      <td>2021</td>\n      <td>11</td>\n      <td>17</td>\n      <td>2021-11-17 07:00:00+07:00</td>\n      <td>Wed</td>\n    </tr>\n    <tr>\n      <th>3</th>\n      <td>4151</td>\n      <td>92</td>\n      <td>93</td>\n      <td>481</td>\n      <td>Pluei (1)</td>\n      <td>Eastern</td>\n      <td>12.508611</td>\n      <td>102.173056</td>\n      <td>0</td>\n      <td>0</td>\n      <td>...</td>\n      <td>0.03999999910593033</td>\n      <td>0</td>\n      <td>0</td>\n      <td>0</td>\n      <td>1.560000</td>\n      <td>2021</td>\n      <td>11</td>\n      <td>17</td>\n      <td>2021-11-17 07:00:00+07:00</td>\n      <td>Wed</td>\n    </tr>\n    <tr>\n      <th>4</th>\n      <td>4150</td>\n      <td>91</td>\n      <td>92</td>\n      <td>480</td>\n      <td>Chanthaburi</td>\n      <td>Eastern</td>\n      <td>12.616667</td>\n      <td>102.113333</td>\n      <td>0</td>\n      <td>0</td>\n      <td>...</td>\n      <td>0</td>\n      <td>0</td>\n      <td>0.6700000166893005</td>\n      <td>1.2799999713897705</td>\n      <td>1.950000</td>\n      <td>2021</td>\n      <td>11</td>\n      <td>17</td>\n      <td>2021-11-17 07:00:00+07:00</td>\n      <td>Wed</td>\n    </tr>\n  </tbody>\n</table>\n<p>5 rows × 38 columns</p>\n</div>"
     },
     "execution_count": 27,
     "metadata": {},
     "output_type": "execute_result"
    }
   ],
   "source": [
    "dfp = integrate_datetime(dfp)\n",
    "dfp.head()"
   ],
   "metadata": {
    "collapsed": false
   }
  },
  {
   "cell_type": "code",
   "execution_count": 28,
   "outputs": [
    {
     "data": {
      "text/plain": "       index  Unnamed: 0.1   ID  WMO_CODE            NAME_EN  \\\n22509  29642           122  123       570              Satun   \n22510  29641           121  122       567              Trang   \n22511  29580            60   61       402           Chai Nat   \n22512  29554            34   35       357      Nakhon Phanom   \n22513  29555            35   36       358  Nakhon Phanom (1)   \n...      ...           ...  ...       ...                ...   \n33205  27464            35   36       358  Nakhon Phanom (1)   \n33206  27463            34   35       357      Nakhon Phanom   \n33207  27462            33   34       354         Udon Thani   \n33208  27461            32   33       350           Loei (1)   \n33209  27474            45   46       404         Roi Et (1)   \n\n                   Region   Latitude   Longitude 00Z 01Z  ...  \\\n22509  Southern WestCoast   6.650000  100.083334   0   0  ...   \n22510  Southern WestCoast   7.516667   99.616667   0   0  ...   \n22511             Central  15.150003  100.183334   0   0  ...   \n22512        Northeastern  17.410833  104.782500   0   0  ...   \n22513        Northeastern  17.443056  104.773611   0   0  ...   \n...                   ...        ...         ...  ..  ..  ...   \n33205        Northeastern  17.443056  104.773611   0   0  ...   \n33206        Northeastern  17.410833  104.782500   0   0  ...   \n33207        Northeastern  17.383333  102.800000   0   0  ...   \n33208        Northeastern  17.400000  101.733333   0   0  ...   \n33209        Northeastern  16.073222  103.608444   0   0  ...   \n\n                       20Z                 21Z                 22Z  \\\n22509                    0                   0                   0   \n22510                    0                   0                   0   \n22511                    0                   0                   0   \n22512  0.07619025558233261  0.0791679173707962  0.0726575031876564   \n22513  0.07619025558233261  0.0791679173707962  0.0726575031876564   \n...                    ...                 ...                 ...   \n33205                    0                   0                   0   \n33206                    0                   0                   0   \n33207                    0                   0                   0   \n33208                    0                   0                   0   \n33209                    0                   0                   0   \n\n                      23Z        sum  year month day  \\\n22509                   0   0.723454  2022     5  27   \n22510                   0   0.000000  2022     5  27   \n22511                   0   0.112654  2022     5  27   \n22512  1.0165468454360962  18.300827  2022     5  27   \n22513  1.0165468454360962  18.300827  2022     5  27   \n...                   ...        ...   ...   ...  ..   \n33205                   0   0.000000  2022     8  29   \n33206                   0   0.000000  2022     8  29   \n33207                   0   0.421416  2022     8  29   \n33208                   0   0.340960  2022     8  29   \n33209                   0   0.000000  2022     8  29   \n\n                           date english_day  \n22509 2022-05-27 07:00:00+07:00         Fri  \n22510 2022-05-27 07:00:00+07:00         Fri  \n22511 2022-05-27 07:00:00+07:00         Fri  \n22512 2022-05-27 07:00:00+07:00         Fri  \n22513 2022-05-27 07:00:00+07:00         Fri  \n...                         ...         ...  \n33205 2022-08-29 07:00:00+07:00         Mon  \n33206 2022-08-29 07:00:00+07:00         Mon  \n33207 2022-08-29 07:00:00+07:00         Mon  \n33208 2022-08-29 07:00:00+07:00         Mon  \n33209 2022-08-29 07:00:00+07:00         Mon  \n\n[10701 rows x 38 columns]",
      "text/html": "<div>\n<style scoped>\n    .dataframe tbody tr th:only-of-type {\n        vertical-align: middle;\n    }\n\n    .dataframe tbody tr th {\n        vertical-align: top;\n    }\n\n    .dataframe thead th {\n        text-align: right;\n    }\n</style>\n<table border=\"1\" class=\"dataframe\">\n  <thead>\n    <tr style=\"text-align: right;\">\n      <th></th>\n      <th>index</th>\n      <th>Unnamed: 0.1</th>\n      <th>ID</th>\n      <th>WMO_CODE</th>\n      <th>NAME_EN</th>\n      <th>Region</th>\n      <th>Latitude</th>\n      <th>Longitude</th>\n      <th>00Z</th>\n      <th>01Z</th>\n      <th>...</th>\n      <th>20Z</th>\n      <th>21Z</th>\n      <th>22Z</th>\n      <th>23Z</th>\n      <th>sum</th>\n      <th>year</th>\n      <th>month</th>\n      <th>day</th>\n      <th>date</th>\n      <th>english_day</th>\n    </tr>\n  </thead>\n  <tbody>\n    <tr>\n      <th>22509</th>\n      <td>29642</td>\n      <td>122</td>\n      <td>123</td>\n      <td>570</td>\n      <td>Satun</td>\n      <td>Southern WestCoast</td>\n      <td>6.650000</td>\n      <td>100.083334</td>\n      <td>0</td>\n      <td>0</td>\n      <td>...</td>\n      <td>0</td>\n      <td>0</td>\n      <td>0</td>\n      <td>0</td>\n      <td>0.723454</td>\n      <td>2022</td>\n      <td>5</td>\n      <td>27</td>\n      <td>2022-05-27 07:00:00+07:00</td>\n      <td>Fri</td>\n    </tr>\n    <tr>\n      <th>22510</th>\n      <td>29641</td>\n      <td>121</td>\n      <td>122</td>\n      <td>567</td>\n      <td>Trang</td>\n      <td>Southern WestCoast</td>\n      <td>7.516667</td>\n      <td>99.616667</td>\n      <td>0</td>\n      <td>0</td>\n      <td>...</td>\n      <td>0</td>\n      <td>0</td>\n      <td>0</td>\n      <td>0</td>\n      <td>0.000000</td>\n      <td>2022</td>\n      <td>5</td>\n      <td>27</td>\n      <td>2022-05-27 07:00:00+07:00</td>\n      <td>Fri</td>\n    </tr>\n    <tr>\n      <th>22511</th>\n      <td>29580</td>\n      <td>60</td>\n      <td>61</td>\n      <td>402</td>\n      <td>Chai Nat</td>\n      <td>Central</td>\n      <td>15.150003</td>\n      <td>100.183334</td>\n      <td>0</td>\n      <td>0</td>\n      <td>...</td>\n      <td>0</td>\n      <td>0</td>\n      <td>0</td>\n      <td>0</td>\n      <td>0.112654</td>\n      <td>2022</td>\n      <td>5</td>\n      <td>27</td>\n      <td>2022-05-27 07:00:00+07:00</td>\n      <td>Fri</td>\n    </tr>\n    <tr>\n      <th>22512</th>\n      <td>29554</td>\n      <td>34</td>\n      <td>35</td>\n      <td>357</td>\n      <td>Nakhon Phanom</td>\n      <td>Northeastern</td>\n      <td>17.410833</td>\n      <td>104.782500</td>\n      <td>0</td>\n      <td>0</td>\n      <td>...</td>\n      <td>0.07619025558233261</td>\n      <td>0.0791679173707962</td>\n      <td>0.0726575031876564</td>\n      <td>1.0165468454360962</td>\n      <td>18.300827</td>\n      <td>2022</td>\n      <td>5</td>\n      <td>27</td>\n      <td>2022-05-27 07:00:00+07:00</td>\n      <td>Fri</td>\n    </tr>\n    <tr>\n      <th>22513</th>\n      <td>29555</td>\n      <td>35</td>\n      <td>36</td>\n      <td>358</td>\n      <td>Nakhon Phanom (1)</td>\n      <td>Northeastern</td>\n      <td>17.443056</td>\n      <td>104.773611</td>\n      <td>0</td>\n      <td>0</td>\n      <td>...</td>\n      <td>0.07619025558233261</td>\n      <td>0.0791679173707962</td>\n      <td>0.0726575031876564</td>\n      <td>1.0165468454360962</td>\n      <td>18.300827</td>\n      <td>2022</td>\n      <td>5</td>\n      <td>27</td>\n      <td>2022-05-27 07:00:00+07:00</td>\n      <td>Fri</td>\n    </tr>\n    <tr>\n      <th>...</th>\n      <td>...</td>\n      <td>...</td>\n      <td>...</td>\n      <td>...</td>\n      <td>...</td>\n      <td>...</td>\n      <td>...</td>\n      <td>...</td>\n      <td>...</td>\n      <td>...</td>\n      <td>...</td>\n      <td>...</td>\n      <td>...</td>\n      <td>...</td>\n      <td>...</td>\n      <td>...</td>\n      <td>...</td>\n      <td>...</td>\n      <td>...</td>\n      <td>...</td>\n      <td>...</td>\n    </tr>\n    <tr>\n      <th>33205</th>\n      <td>27464</td>\n      <td>35</td>\n      <td>36</td>\n      <td>358</td>\n      <td>Nakhon Phanom (1)</td>\n      <td>Northeastern</td>\n      <td>17.443056</td>\n      <td>104.773611</td>\n      <td>0</td>\n      <td>0</td>\n      <td>...</td>\n      <td>0</td>\n      <td>0</td>\n      <td>0</td>\n      <td>0</td>\n      <td>0.000000</td>\n      <td>2022</td>\n      <td>8</td>\n      <td>29</td>\n      <td>2022-08-29 07:00:00+07:00</td>\n      <td>Mon</td>\n    </tr>\n    <tr>\n      <th>33206</th>\n      <td>27463</td>\n      <td>34</td>\n      <td>35</td>\n      <td>357</td>\n      <td>Nakhon Phanom</td>\n      <td>Northeastern</td>\n      <td>17.410833</td>\n      <td>104.782500</td>\n      <td>0</td>\n      <td>0</td>\n      <td>...</td>\n      <td>0</td>\n      <td>0</td>\n      <td>0</td>\n      <td>0</td>\n      <td>0.000000</td>\n      <td>2022</td>\n      <td>8</td>\n      <td>29</td>\n      <td>2022-08-29 07:00:00+07:00</td>\n      <td>Mon</td>\n    </tr>\n    <tr>\n      <th>33207</th>\n      <td>27462</td>\n      <td>33</td>\n      <td>34</td>\n      <td>354</td>\n      <td>Udon Thani</td>\n      <td>Northeastern</td>\n      <td>17.383333</td>\n      <td>102.800000</td>\n      <td>0</td>\n      <td>0</td>\n      <td>...</td>\n      <td>0</td>\n      <td>0</td>\n      <td>0</td>\n      <td>0</td>\n      <td>0.421416</td>\n      <td>2022</td>\n      <td>8</td>\n      <td>29</td>\n      <td>2022-08-29 07:00:00+07:00</td>\n      <td>Mon</td>\n    </tr>\n    <tr>\n      <th>33208</th>\n      <td>27461</td>\n      <td>32</td>\n      <td>33</td>\n      <td>350</td>\n      <td>Loei (1)</td>\n      <td>Northeastern</td>\n      <td>17.400000</td>\n      <td>101.733333</td>\n      <td>0</td>\n      <td>0</td>\n      <td>...</td>\n      <td>0</td>\n      <td>0</td>\n      <td>0</td>\n      <td>0</td>\n      <td>0.340960</td>\n      <td>2022</td>\n      <td>8</td>\n      <td>29</td>\n      <td>2022-08-29 07:00:00+07:00</td>\n      <td>Mon</td>\n    </tr>\n    <tr>\n      <th>33209</th>\n      <td>27474</td>\n      <td>45</td>\n      <td>46</td>\n      <td>404</td>\n      <td>Roi Et (1)</td>\n      <td>Northeastern</td>\n      <td>16.073222</td>\n      <td>103.608444</td>\n      <td>0</td>\n      <td>0</td>\n      <td>...</td>\n      <td>0</td>\n      <td>0</td>\n      <td>0</td>\n      <td>0</td>\n      <td>0.000000</td>\n      <td>2022</td>\n      <td>8</td>\n      <td>29</td>\n      <td>2022-08-29 07:00:00+07:00</td>\n      <td>Mon</td>\n    </tr>\n  </tbody>\n</table>\n<p>10701 rows × 38 columns</p>\n</div>"
     },
     "execution_count": 28,
     "metadata": {},
     "output_type": "execute_result"
    }
   ],
   "source": [
    "dfg_period = app.filter_dates(dfg, start_date='2022-05-27', end_date='2022-08-30')\n",
    "dfg_period"
   ],
   "metadata": {
    "collapsed": false
   }
  },
  {
   "cell_type": "code",
   "execution_count": 29,
   "outputs": [
    {
     "data": {
      "text/plain": "       index  Unnamed: 0.1   ID  WMO_CODE         NAME_EN              Region  \\\n22755  17097             0    1       300    Mae Hong Son            Northern   \n22756  17187            90   91       479   Huai Pong (1)             Eastern   \n22757  17186            89   90       478          Rayong             Eastern   \n22758  17185            88   89       477        Sattahip             Eastern   \n22759  17184            87   88       461         Pattaya             Eastern   \n...      ...           ...  ...       ...             ...                 ...   \n33082   2124            33   34       354      Udon Thani        Northeastern   \n33083   2123            32   33       350        Loei (1)        Northeastern   \n33084   2122            31   32       353            Loei        Northeastern   \n33085   2134            43   44       390   Kamalasai (2)        Northeastern   \n33086   2209           118  119       565  Phuket Airport  Southern WestCoast   \n\n        Latitude   Longitude 00Z 01Z  ... 20Z 21Z 22Z 23Z        sum  year  \\\n22755  19.298972   97.975778   0   0  ...   0   0   0   0   0.000000  2022   \n22756  12.733334  101.133334   0   0  ...   0   0   0   0   8.130000  2022   \n22757  12.617028  101.340750   0   0  ...   0   0   0   0   9.809999  2022   \n22758  12.683334  100.983334   0   0  ...   0   0   0   0   0.160000  2022   \n22759  12.920000  100.869444   0   0  ...   0   0   0   0   5.870000  2022   \n...          ...         ...  ..  ..  ...  ..  ..  ..  ..        ...   ...   \n33082  17.383333  102.800000   0   0  ...   0   0   0   0   0.000000  2022   \n33083  17.400000  101.733333   0   0  ...   0   0   0   0   0.000000  2022   \n33084  17.450000  101.733333   0   0  ...   0   0   0   0   0.000000  2022   \n33085  16.332500  103.588333   0   0  ...   0   0   0   0   1.790000  2022   \n33086   8.145000   98.314444   0   0  ...   0   0   0   0  13.710000  2022   \n\n      month day                      date english_day  \n22755     5  27 2022-05-27 07:00:00+07:00         Fri  \n22756     5  27 2022-05-27 07:00:00+07:00         Fri  \n22757     5  27 2022-05-27 07:00:00+07:00         Fri  \n22758     5  27 2022-05-27 07:00:00+07:00         Fri  \n22759     5  27 2022-05-27 07:00:00+07:00         Fri  \n...     ...  ..                       ...         ...  \n33082     8  29 2022-08-29 07:00:00+07:00         Mon  \n33083     8  29 2022-08-29 07:00:00+07:00         Mon  \n33084     8  29 2022-08-29 07:00:00+07:00         Mon  \n33085     8  29 2022-08-29 07:00:00+07:00         Mon  \n33086     8  29 2022-08-29 07:00:00+07:00         Mon  \n\n[10332 rows x 38 columns]",
      "text/html": "<div>\n<style scoped>\n    .dataframe tbody tr th:only-of-type {\n        vertical-align: middle;\n    }\n\n    .dataframe tbody tr th {\n        vertical-align: top;\n    }\n\n    .dataframe thead th {\n        text-align: right;\n    }\n</style>\n<table border=\"1\" class=\"dataframe\">\n  <thead>\n    <tr style=\"text-align: right;\">\n      <th></th>\n      <th>index</th>\n      <th>Unnamed: 0.1</th>\n      <th>ID</th>\n      <th>WMO_CODE</th>\n      <th>NAME_EN</th>\n      <th>Region</th>\n      <th>Latitude</th>\n      <th>Longitude</th>\n      <th>00Z</th>\n      <th>01Z</th>\n      <th>...</th>\n      <th>20Z</th>\n      <th>21Z</th>\n      <th>22Z</th>\n      <th>23Z</th>\n      <th>sum</th>\n      <th>year</th>\n      <th>month</th>\n      <th>day</th>\n      <th>date</th>\n      <th>english_day</th>\n    </tr>\n  </thead>\n  <tbody>\n    <tr>\n      <th>22755</th>\n      <td>17097</td>\n      <td>0</td>\n      <td>1</td>\n      <td>300</td>\n      <td>Mae Hong Son</td>\n      <td>Northern</td>\n      <td>19.298972</td>\n      <td>97.975778</td>\n      <td>0</td>\n      <td>0</td>\n      <td>...</td>\n      <td>0</td>\n      <td>0</td>\n      <td>0</td>\n      <td>0</td>\n      <td>0.000000</td>\n      <td>2022</td>\n      <td>5</td>\n      <td>27</td>\n      <td>2022-05-27 07:00:00+07:00</td>\n      <td>Fri</td>\n    </tr>\n    <tr>\n      <th>22756</th>\n      <td>17187</td>\n      <td>90</td>\n      <td>91</td>\n      <td>479</td>\n      <td>Huai Pong (1)</td>\n      <td>Eastern</td>\n      <td>12.733334</td>\n      <td>101.133334</td>\n      <td>0</td>\n      <td>0</td>\n      <td>...</td>\n      <td>0</td>\n      <td>0</td>\n      <td>0</td>\n      <td>0</td>\n      <td>8.130000</td>\n      <td>2022</td>\n      <td>5</td>\n      <td>27</td>\n      <td>2022-05-27 07:00:00+07:00</td>\n      <td>Fri</td>\n    </tr>\n    <tr>\n      <th>22757</th>\n      <td>17186</td>\n      <td>89</td>\n      <td>90</td>\n      <td>478</td>\n      <td>Rayong</td>\n      <td>Eastern</td>\n      <td>12.617028</td>\n      <td>101.340750</td>\n      <td>0</td>\n      <td>0</td>\n      <td>...</td>\n      <td>0</td>\n      <td>0</td>\n      <td>0</td>\n      <td>0</td>\n      <td>9.809999</td>\n      <td>2022</td>\n      <td>5</td>\n      <td>27</td>\n      <td>2022-05-27 07:00:00+07:00</td>\n      <td>Fri</td>\n    </tr>\n    <tr>\n      <th>22758</th>\n      <td>17185</td>\n      <td>88</td>\n      <td>89</td>\n      <td>477</td>\n      <td>Sattahip</td>\n      <td>Eastern</td>\n      <td>12.683334</td>\n      <td>100.983334</td>\n      <td>0</td>\n      <td>0</td>\n      <td>...</td>\n      <td>0</td>\n      <td>0</td>\n      <td>0</td>\n      <td>0</td>\n      <td>0.160000</td>\n      <td>2022</td>\n      <td>5</td>\n      <td>27</td>\n      <td>2022-05-27 07:00:00+07:00</td>\n      <td>Fri</td>\n    </tr>\n    <tr>\n      <th>22759</th>\n      <td>17184</td>\n      <td>87</td>\n      <td>88</td>\n      <td>461</td>\n      <td>Pattaya</td>\n      <td>Eastern</td>\n      <td>12.920000</td>\n      <td>100.869444</td>\n      <td>0</td>\n      <td>0</td>\n      <td>...</td>\n      <td>0</td>\n      <td>0</td>\n      <td>0</td>\n      <td>0</td>\n      <td>5.870000</td>\n      <td>2022</td>\n      <td>5</td>\n      <td>27</td>\n      <td>2022-05-27 07:00:00+07:00</td>\n      <td>Fri</td>\n    </tr>\n    <tr>\n      <th>...</th>\n      <td>...</td>\n      <td>...</td>\n      <td>...</td>\n      <td>...</td>\n      <td>...</td>\n      <td>...</td>\n      <td>...</td>\n      <td>...</td>\n      <td>...</td>\n      <td>...</td>\n      <td>...</td>\n      <td>...</td>\n      <td>...</td>\n      <td>...</td>\n      <td>...</td>\n      <td>...</td>\n      <td>...</td>\n      <td>...</td>\n      <td>...</td>\n      <td>...</td>\n      <td>...</td>\n    </tr>\n    <tr>\n      <th>33082</th>\n      <td>2124</td>\n      <td>33</td>\n      <td>34</td>\n      <td>354</td>\n      <td>Udon Thani</td>\n      <td>Northeastern</td>\n      <td>17.383333</td>\n      <td>102.800000</td>\n      <td>0</td>\n      <td>0</td>\n      <td>...</td>\n      <td>0</td>\n      <td>0</td>\n      <td>0</td>\n      <td>0</td>\n      <td>0.000000</td>\n      <td>2022</td>\n      <td>8</td>\n      <td>29</td>\n      <td>2022-08-29 07:00:00+07:00</td>\n      <td>Mon</td>\n    </tr>\n    <tr>\n      <th>33083</th>\n      <td>2123</td>\n      <td>32</td>\n      <td>33</td>\n      <td>350</td>\n      <td>Loei (1)</td>\n      <td>Northeastern</td>\n      <td>17.400000</td>\n      <td>101.733333</td>\n      <td>0</td>\n      <td>0</td>\n      <td>...</td>\n      <td>0</td>\n      <td>0</td>\n      <td>0</td>\n      <td>0</td>\n      <td>0.000000</td>\n      <td>2022</td>\n      <td>8</td>\n      <td>29</td>\n      <td>2022-08-29 07:00:00+07:00</td>\n      <td>Mon</td>\n    </tr>\n    <tr>\n      <th>33084</th>\n      <td>2122</td>\n      <td>31</td>\n      <td>32</td>\n      <td>353</td>\n      <td>Loei</td>\n      <td>Northeastern</td>\n      <td>17.450000</td>\n      <td>101.733333</td>\n      <td>0</td>\n      <td>0</td>\n      <td>...</td>\n      <td>0</td>\n      <td>0</td>\n      <td>0</td>\n      <td>0</td>\n      <td>0.000000</td>\n      <td>2022</td>\n      <td>8</td>\n      <td>29</td>\n      <td>2022-08-29 07:00:00+07:00</td>\n      <td>Mon</td>\n    </tr>\n    <tr>\n      <th>33085</th>\n      <td>2134</td>\n      <td>43</td>\n      <td>44</td>\n      <td>390</td>\n      <td>Kamalasai (2)</td>\n      <td>Northeastern</td>\n      <td>16.332500</td>\n      <td>103.588333</td>\n      <td>0</td>\n      <td>0</td>\n      <td>...</td>\n      <td>0</td>\n      <td>0</td>\n      <td>0</td>\n      <td>0</td>\n      <td>1.790000</td>\n      <td>2022</td>\n      <td>8</td>\n      <td>29</td>\n      <td>2022-08-29 07:00:00+07:00</td>\n      <td>Mon</td>\n    </tr>\n    <tr>\n      <th>33086</th>\n      <td>2209</td>\n      <td>118</td>\n      <td>119</td>\n      <td>565</td>\n      <td>Phuket Airport</td>\n      <td>Southern WestCoast</td>\n      <td>8.145000</td>\n      <td>98.314444</td>\n      <td>0</td>\n      <td>0</td>\n      <td>...</td>\n      <td>0</td>\n      <td>0</td>\n      <td>0</td>\n      <td>0</td>\n      <td>13.710000</td>\n      <td>2022</td>\n      <td>8</td>\n      <td>29</td>\n      <td>2022-08-29 07:00:00+07:00</td>\n      <td>Mon</td>\n    </tr>\n  </tbody>\n</table>\n<p>10332 rows × 38 columns</p>\n</div>"
     },
     "execution_count": 29,
     "metadata": {},
     "output_type": "execute_result"
    }
   ],
   "source": [
    "dfp_period = app.filter_dates(dfp, start_date='2022-05-27', end_date='2022-08-30')\n",
    "dfp_period"
   ],
   "metadata": {
    "collapsed": false
   }
  },
  {
   "cell_type": "code",
   "execution_count": 30,
   "outputs": [
    {
     "data": {
      "text/plain": "0   2022-05-27 07:00:00+07:00\nName: date, dtype: datetime64[ns, Asia/Bangkok]"
     },
     "metadata": {},
     "output_type": "display_data"
    },
    {
     "data": {
      "text/plain": "53465   2022-08-29 07:00:00+07:00\nName: date, dtype: datetime64[ns, Asia/Bangkok]"
     },
     "metadata": {},
     "output_type": "display_data"
    }
   ],
   "source": [
    "display(dft[:1]['date'])\n",
    "display(dft[-1:]['date'])\n"
   ],
   "metadata": {
    "collapsed": false
   }
  },
  {
   "cell_type": "code",
   "execution_count": 31,
   "outputs": [
    {
     "data": {
      "text/plain": "                  max      mean\nsource                         \ngsmap      301.576996  6.583328\nthaiwater  536.000000  8.329306\npersiann   129.860001  4.588826",
      "text/html": "<div>\n<style scoped>\n    .dataframe tbody tr th:only-of-type {\n        vertical-align: middle;\n    }\n\n    .dataframe tbody tr th {\n        vertical-align: top;\n    }\n\n    .dataframe thead th {\n        text-align: right;\n    }\n</style>\n<table border=\"1\" class=\"dataframe\">\n  <thead>\n    <tr style=\"text-align: right;\">\n      <th></th>\n      <th>max</th>\n      <th>mean</th>\n    </tr>\n    <tr>\n      <th>source</th>\n      <th></th>\n      <th></th>\n    </tr>\n  </thead>\n  <tbody>\n    <tr>\n      <th>gsmap</th>\n      <td>301.576996</td>\n      <td>6.583328</td>\n    </tr>\n    <tr>\n      <th>thaiwater</th>\n      <td>536.000000</td>\n      <td>8.329306</td>\n    </tr>\n    <tr>\n      <th>persiann</th>\n      <td>129.860001</td>\n      <td>4.588826</td>\n    </tr>\n  </tbody>\n</table>\n</div>"
     },
     "execution_count": 31,
     "metadata": {},
     "output_type": "execute_result"
    }
   ],
   "source": [
    "items = {'source': ['gsmap', 'thaiwater', 'persiann'],\n",
    "         'max': [dfg_period['sum'].max(), dft['rainfall'].max(), dfp_period['sum'].max()],\n",
    "         'mean': [dfg_period['sum'].mean(), dft['rainfall'].mean(), dfp['sum'].mean()]}\n",
    "df_stat = pd.DataFrame(items)\n",
    "df_stat = df_stat.set_index('source')\n",
    "df_stat\n"
   ],
   "metadata": {
    "collapsed": false
   }
  },
  {
   "cell_type": "code",
   "execution_count": 32,
   "outputs": [
    {
     "data": {
      "text/plain": "Text(0, 0.5, 'Rainfall (mm)')"
     },
     "execution_count": 32,
     "metadata": {},
     "output_type": "execute_result"
    },
    {
     "data": {
      "text/plain": "<Figure size 400x300 with 1 Axes>",
      "image/png": "[encoded data removed]"
     },
     "metadata": {},
     "output_type": "display_data"
    }
   ],
   "source": [
    "fig, ax = plt.subplots(figsize=(4, 3))\n",
    "sns.despine(fig, left=True, bottom=True)\n",
    "sns.barplot(x=df_stat.index, y='mean', data=df_stat)\n",
    "ax.set_title('Mean')\n",
    "ax.set_ylabel('Rainfall (mm)')"
   ],
   "metadata": {
    "collapsed": false
   }
  },
  {
   "cell_type": "code",
   "execution_count": 33,
   "outputs": [
    {
     "data": {
      "text/plain": "Text(0, 0.5, 'Rainfall (mm)')"
     },
     "execution_count": 33,
     "metadata": {},
     "output_type": "execute_result"
    },
    {
     "data": {
      "text/plain": "<Figure size 400x300 with 1 Axes>",
      "image/png": "[encoded data removed]"
     },
     "metadata": {},
     "output_type": "display_data"
    }
   ],
   "source": [
    "fig, ax = plt.subplots(figsize=(4, 3))\n",
    "sns.despine(fig, left=True, bottom=True)\n",
    "sns.barplot(x=df_stat.index, y='max', data=df_stat)\n",
    "ax.set_title('MAX')\n",
    "ax.set_ylabel('Rainfall (mm)')"
   ],
   "metadata": {
    "collapsed": false
   }
  },
  {
   "cell_type": "code",
   "execution_count": 76,
   "outputs": [
    {
     "name": "stdout",
     "output_type": "stream",
     "text": [
      "[['บ้านบางกุ่ม' 8.665886890599657 98.45299780368804 2.5]\n",
      " ['อ่างเก็บน้ำห้วยซับเหล็ก' 14.81482426457702 100.7758069038391 2.8]\n",
      " ['บ้านนาล้อม' 17.28226420045005 100.5360013246536 1.5]\n",
      " ...\n",
      " [0 14.49604637662732 102.2472238540649 0.8]\n",
      " [0 14.49604637662732 102.2472238540649 25.0]\n",
      " [0 14.49604637662732 102.2472238540649 1.2]]\n"
     ]
    }
   ],
   "source": [
    "dfg_val = dfg_period[['NAME_EN', 'Latitude', 'Longitude', 'sum', 'date']].values\n",
    "dft_val = dft[['station', 'lat', 'long', 'rainfall', 'date']].values\n",
    "print(dft_val)"
   ],
   "metadata": {
    "collapsed": false
   }
  },
  {
   "cell_type": "code",
   "execution_count": 73,
   "outputs": [],
   "source": [
    "def get_distant_station(station1_lat, station1_long, station2_lat, station2_long):\n",
    "    R = 6373000\n",
    "    station2_lat = math.radians(station2_lat)\n",
    "    station2_long = math.radians(station2_long)\n",
    "    station1_lat = math.radians(station1_lat)\n",
    "    station1_long = math.radians(station1_long)\n",
    "    dlat = station2_lat - station1_lat\n",
    "    dlon = station2_long - station1_long\n",
    "    a = math.sin(dlat / 2) ** 2 + math.cos(station1_lat) * math.cos(station2_lat) * math.sin(dlon / 2) ** 2\n",
    "    c = 2 * math.atan2(math.sqrt(a), math.sqrt(1 - a))\n",
    "    distance = R * c\n",
    "    return distance"
   ],
   "metadata": {
    "collapsed": false
   }
  },
  {
   "cell_type": "code",
   "execution_count": 4,
   "outputs": [],
   "source": [
    "class ThaiWater(BaseModel):\n",
    "    station: str\n",
    "    nearest_station: str\n",
    "    lat: float\n",
    "    long: float\n",
    "    date: Union[datetime, None] = None\n",
    "    close_range: float\n",
    "    sum: float\n",
    "    validate_by: str = Field(..., alias='validate')\n"
   ],
   "metadata": {
    "collapsed": false
   }
  },
  {
   "cell_type": "code",
   "execution_count": null,
   "outputs": [],
   "source": [
    "df_thaiwater = []\n",
    "count = 0\n",
    "\n",
    "for index, pos in enumerate(dft_val):\n",
    "    station1 = pos[:][0]\n",
    "    lat1 = pos[:][1]\n",
    "    long1 = pos[:][2]\n",
    "    for i, gsmap in enumerate(dfg_val):\n",
    "        station2 = gsmap[:][0]\n",
    "        lat2 = gsmap[:][1]\n",
    "        long2 = gsmap[:][2]\n",
    "        distance = get_distant_station(\n",
    "            station1_lat=lat1,\n",
    "            station1_long=long1,\n",
    "            station2_lat=lat2,\n",
    "            station2_long=long2\n",
    "        )\n",
    "        distance = distance / 1000\n",
    "        if distance <= 10:\n",
    "            response = ThaiWater(\n",
    "                station=station1,\n",
    "                nearest_station=station2,\n",
    "                lat=lat1,\n",
    "                long=long1,\n",
    "                sum=pos[:][3],\n",
    "                date=pos[:][4],\n",
    "                validate='gsmap'\n",
    "            )\n",
    "            df_thaiwater.append(pos)\n",
    "            break\n",
    "    print(index)\n"
   ],
   "metadata": {
    "collapsed": false,
    "pycharm": {
     "is_executing": true
    }
   }
  },
  {
   "cell_type": "code",
   "execution_count": null,
   "outputs": [],
   "source": [
    "pd.DataFrame(df_thaiwater)"
   ],
   "metadata": {
    "collapsed": false,
    "pycharm": {
     "is_executing": true
    }
   }
  },
  {
   "cell_type": "code",
   "execution_count": null,
   "outputs": [],
   "source": [],
   "metadata": {
    "collapsed": false
   }
  }
 ],
 "metadata": {
  "kernelspec": {
   "display_name": "Python 3",
   "language": "python",
   "name": "python3"
  },
  "language_info": {
   "codemirror_mode": {
    "name": "ipython",
    "version": 2
   },
   "file_extension": ".py",
   "mimetype": "text/x-python",
   "name": "python",
   "nbconvert_exporter": "python",
   "pygments_lexer": "ipython2",
   "version": "2.7.6"
  }
 },
 "nbformat": 4,
 "nbformat_minor": 0
}
